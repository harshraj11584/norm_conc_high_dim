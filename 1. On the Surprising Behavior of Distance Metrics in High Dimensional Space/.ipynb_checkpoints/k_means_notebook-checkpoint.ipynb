{
 "cells": [
  {
   "cell_type": "code",
   "execution_count": 24,
   "metadata": {},
   "outputs": [
    {
     "data": {
      "image/png": "[encoded data removed]",
      "text/plain": [
       "<Figure size 432x288 with 1 Axes>"
      ]
     },
     "metadata": {
      "needs_background": "light"
     },
     "output_type": "display_data"
    }
   ],
   "source": [
    "import numpy as np\n",
    "from numpy import inf\n",
    "import matplotlib.pyplot as plt\n",
    "from sklearn.metrics import accuracy_score\n",
    "fig, ax = plt.subplots()"
   ]
  },
  {
   "cell_type": "code",
   "execution_count": 34,
   "metadata": {},
   "outputs": [
    {
     "name": "stdout",
     "output_type": "stream",
     "text": [
      "data\n",
      " (60, 2)\n",
      "[[14.01618043 89.8798309 ]\n",
      " [13.07583919 87.70648148]\n",
      " [16.04796044 89.06162414]\n",
      " [14.53586082 89.16555563]\n",
      " [15.27222442 90.37113479]\n",
      " [13.36631492 89.16952437]\n",
      " [13.84923022 90.83677464]\n",
      " [13.74590556 88.73202562]\n",
      " [14.61923264 91.55520974]\n",
      " [15.8853373  89.5205813 ]\n",
      " [ 7.66843831 25.38930843]\n",
      " [ 7.22440357 28.49277533]\n",
      " [ 5.88720779 29.67386133]\n",
      " [ 5.86976875 26.10652738]\n",
      " [ 5.56057771 27.97374252]\n",
      " [ 7.3645666  25.76067883]\n",
      " [ 5.91103849 27.73163892]\n",
      " [ 4.84059824 27.53489752]\n",
      " [ 6.26000045 27.53603506]\n",
      " [ 5.75458038 27.853036  ]\n",
      " [64.57511673 87.25744904]\n",
      " [65.92271602 86.26557012]\n",
      " [65.61135965 84.90254509]\n",
      " [63.84406838 84.55033689]\n",
      " [65.09815325 84.19501822]\n",
      " [65.12288433 84.84811321]\n",
      " [65.8562196  86.96279442]\n",
      " [64.68878927 85.54522314]\n",
      " [66.55014123 85.92073569]\n",
      " [65.11624847 83.97891776]\n",
      " [ 5.04099391 83.53817925]\n",
      " [ 4.70653765 82.87598855]\n",
      " [ 5.77125957 83.54887576]\n",
      " [ 4.1379475  83.6460375 ]\n",
      " [ 2.86177237 82.30310537]\n",
      " [ 5.44498928 81.96722295]\n",
      " [ 5.18546462 84.69653977]\n",
      " [ 4.98324661 84.56745908]\n",
      " [ 4.4090078  84.79318771]\n",
      " [ 4.66934897 83.83791359]\n",
      " [42.37091886 45.50555847]\n",
      " [39.78360021 43.21255626]\n",
      " [40.4636966  44.25489279]\n",
      " [42.07815438 44.19179716]\n",
      " [43.77451922 43.45374038]\n",
      " [41.74617565 44.53202738]\n",
      " [40.67620563 43.99437603]\n",
      " [42.88521242 44.07846682]\n",
      " [43.20781489 45.69369155]\n",
      " [42.81877339 44.41260592]\n",
      " [18.1785128  48.02304959]\n",
      " [18.633165   46.79331585]\n",
      " [19.59642874 45.55375801]\n",
      " [20.96528995 49.77931079]\n",
      " [19.60407469 46.91334111]\n",
      " [19.56240698 47.97897684]\n",
      " [18.99283236 46.75080104]\n",
      " [18.78608048 46.21417572]\n",
      " [17.80141437 44.70023903]\n",
      " [18.01482952 47.25685875]]\n",
      "\n",
      "y_act\n",
      " (60,)\n",
      "[1 1 1 1 1 1 1 1 1 1 2 2 2 2 2 2 2 2 2 2 3 3 3 3 3 3 3 3 3 3 4 4 4 4 4 4 4\n",
      " 4 4 4 5 5 5 5 5 5 5 5 5 5 6 6 6 6 6 6 6 6 6 6]\n",
      "means\n",
      " (6, 2)\n",
      "[[14.75255792 90.20197164]\n",
      " [ 6.34362152 28.32508548]\n",
      " [65.48143965 85.18887323]\n",
      " [ 4.85196712 83.57616761]\n",
      " [41.70912468 44.35195194]\n",
      " [19.2984386  46.43856908]]\n"
     ]
    }
   ],
   "source": [
    "#Generating Synthetic Data \n",
    "dim = 2\n",
    "n_clusters = 6\n",
    "N = 10\n",
    "means=np.random.uniform(low=0.0,high=100.0,size=(n_clusters,dim))\n",
    "means.sort()\n",
    "data=[np.random.normal(loc=m,scale=1,size=(N,dim)) for m in means]\n",
    "data = np.array(data)\n",
    "data = data.reshape((N*n_clusters,dim))\n",
    "#Actual Labels\n",
    "y_act = np.array([[i+1]*N for i in range(len(means))]).reshape((N*n_clusters))\n",
    "\n",
    "print(\"data\\n\",data.shape)\n",
    "print(data)\n",
    "print()\n",
    "print(\"y_act\\n\",y_act.shape)\n",
    "print(y_act)\n",
    "print(\"means\\n\",means.shape)\n",
    "print(means)"
   ]
  },
  {
   "cell_type": "markdown",
   "metadata": {},
   "source": [
    "Running k-Means"
   ]
  },
  {
   "cell_type": "code",
   "execution_count": 41,
   "metadata": {},
   "outputs": [
    {
     "name": "stdout",
     "output_type": "stream",
     "text": [
      "Iter  0\n",
      "Current Labels\n",
      " [0 0 0 0 0 0 0 0 0 0 0 0 0 0 0 0 0 0 0 0 0 0 0 0 0 0 0 0 0 0 0 0 0 0 0 0 0\n",
      " 0 0 0 0 0 0 0 0 0 0 0 0 0 0 0 0 0 0 0 0 0 0 0]\n",
      "Current Means\n",
      " [[89.69599263 43.64748926]\n",
      " [ 3.15422127 12.72591132]\n",
      " [81.03660938 36.36315891]\n",
      " [25.2828075  64.60372432]\n",
      " [89.88236876 80.10664286]\n",
      " [49.19017328 95.23897005]]\n",
      "n_data_cluster:  [ 0. 10.  0. 40.  0. 10.]\n",
      "Iter  1\n",
      "Current Labels\n",
      " [3 3 3 3 3 3 3 3 3 3 1 1 1 1 1 1 1 1 1 1 5 5 5 5 5 5 5 5 5 5 3 3 3 3 3 3 3\n",
      " 3 3 3 3 3 3 3 3 3 3 3 3 3 3 3 3 3 3 3 3 3 3 3]\n",
      "Current Means\n",
      " [[89.69599263 43.64748926]\n",
      " [ 6.23411803 27.40525013]\n",
      " [81.03660938 36.36315891]\n",
      " [20.03911901 66.12666979]\n",
      " [89.88236876 80.10664286]\n",
      " [65.23856969 85.44267036]]\n",
      "n_data_cluster:  [ 0. 11.  0. 39.  0. 10.]\n",
      "Iter  2\n",
      "Current Labels\n",
      " [3 3 3 3 3 3 3 3 3 3 1 1 1 1 1 1 1 1 1 1 5 5 5 5 5 5 5 5 5 5 3 3 3 3 3 3 3\n",
      " 3 3 3 3 3 3 3 3 3 3 3 3 3 3 3 3 3 3 3 3 3 1 3]\n",
      "Current Means\n",
      " [[89.69599263 43.64748926]\n",
      " [ 7.28569042 28.97752185]\n",
      " [81.03660938 36.36315891]\n",
      " [20.09649605 66.67606545]\n",
      " [89.88236876 80.10664286]\n",
      " [65.23856969 85.44267036]]\n",
      "n_data_cluster:  [ 0. 11.  0. 39.  0. 10.]\n",
      "Iter  3\n",
      "Current Labels\n",
      " [3 3 3 3 3 3 3 3 3 3 1 1 1 1 1 1 1 1 1 1 5 5 5 5 5 5 5 5 5 5 3 3 3 3 3 3 3\n",
      " 3 3 3 3 3 3 3 3 3 3 3 3 3 3 3 3 3 3 3 3 3 1 3]\n",
      "Current Means\n",
      " [[89.69599263 43.64748926]\n",
      " [ 7.28569042 28.97752185]\n",
      " [81.03660938 36.36315891]\n",
      " [20.09649605 66.67606545]\n",
      " [89.88236876 80.10664286]\n",
      " [65.23856969 85.44267036]]\n",
      "n_data_cluster:  [ 0. 11.  0. 39.  0. 10.]\n",
      "Converged on Iter 3\n"
     ]
    }
   ],
   "source": [
    "n_datapoints = N*n_clusters\n",
    "n_iterations = 200\n",
    "\n",
    "#initialize k-means randomly\n",
    "current_means = np.random.uniform(low=0.0,high=100.0,size=(n_clusters,dim))\n",
    "current_dist = np.array([inf]*n_datapoints)\n",
    "data_means = np.zeros(n_datapoints)\n",
    "\n",
    "for iter_num in range(n_iterations):\n",
    "    print(\"Iter \", iter_num)\n",
    "    data_means= data_means.astype(int)\n",
    "    changes=False\n",
    "    print(\"Current Labels\\n\", data_means)\n",
    "    print(\"Current Means\\n\", current_means)\n",
    "    \n",
    "    #categorize items\n",
    "    for i in range(n_datapoints):\n",
    "        min_dist = inf\n",
    "        near_mean_ind = data_means[i]\n",
    "        for j in range(len(current_means)):\n",
    "            #tmpdist = dist(data[i],current_means[j],ord)\n",
    "            tmpdist = np.linalg.norm(data[i]-current_means[j],ord=2)\n",
    "            if min_dist > tmpdist:\n",
    "                min_dist = tmpdist\n",
    "                near_mean_ind=j\n",
    "        if current_dist[i]>min_dist:\n",
    "            current_dist[i] = min_dist\n",
    "            data_means[i] = near_mean_ind\n",
    "            changes=True\n",
    "            \n",
    "            \n",
    "    #redistribute means\n",
    "    sum_data_cluster = np.zeros((n_clusters,dim))\n",
    "    n_data_cluster = np.zeros(n_clusters)\n",
    "    for i in range(n_datapoints):\n",
    "        sum_data_cluster[data_means[i]]=sum_data_cluster[data_means[i]]+data[i]\n",
    "        n_data_cluster[data_means[i]]=n_data_cluster[data_means[i]]+1\n",
    "    print(\"n_data_cluster: \",n_data_cluster)\n",
    "    for i in range(n_clusters):\n",
    "        if n_data_cluster[i]>0:\n",
    "            if not(np.array_equal(current_means[i],sum_data_cluster[i]/n_data_cluster[i])):\n",
    "                current_means[i] = sum_data_cluster[i]/n_data_cluster[i]\n",
    "                changes=True\n",
    "    \n",
    "    if changes==False:\n",
    "        print(\"Converged on Iter\", iter_num)\n",
    "        break;\n",
    "    "
   ]
  },
  {
   "cell_type": "code",
   "execution_count": 42,
   "metadata": {},
   "outputs": [
    {
     "name": "stdout",
     "output_type": "stream",
     "text": [
      "[3 3 3 3 3 3 3 3 3 3 1 1 1 1 1 1 1 1 1 1 5 5 5 5 5 5 5 5 5 5 3 3 3 3 3 3 3\n",
      " 3 3 3 3 3 3 3 3 3 3 3 3 3 3 3 3 3 3 3 3 3 1 3]\n"
     ]
    }
   ],
   "source": [
    "print(data_means)"
   ]
  },
  {
   "cell_type": "code",
   "execution_count": null,
   "metadata": {},
   "outputs": [],
   "source": []
  }
 ],
 "metadata": {
  "kernelspec": {
   "display_name": "Python 3",
   "language": "python",
   "name": "python3"
  },
  "language_info": {
   "codemirror_mode": {
    "name": "ipython",
    "version": 3
   },
   "file_extension": ".py",
   "mimetype": "text/x-python",
   "name": "python",
   "nbconvert_exporter": "python",
   "pygments_lexer": "ipython3",
   "version": "3.7.1"
  }
 },
 "nbformat": 4,
 "nbformat_minor": 2
}
