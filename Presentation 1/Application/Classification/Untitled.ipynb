{
 "cells": [
  {
   "cell_type": "code",
   "execution_count": 1,
   "metadata": {},
   "outputs": [],
   "source": [
    "import numpy as np\n",
    "import pandas as pd \n",
    "import sklearn.svm\n",
    "import sklearn.model_selection\n",
    "import sklearn.preprocessing\n",
    "from sklearn.metrics import accuracy_score"
   ]
  },
  {
   "cell_type": "code",
   "execution_count": 34,
   "metadata": {},
   "outputs": [
    {
     "name": "stdout",
     "output_type": "stream",
     "text": [
      "num classes =  4\n",
      "(5000, 54) (5000,)\n"
     ]
    }
   ],
   "source": [
    "data = pd.read_csv('jannis.csv')\n",
    "# print(data.head())\n",
    "\n",
    "X = np.array(data._get_numeric_data(),dtype=np.float32)[:,1:]\n",
    "Y = np.array(data['class'],dtype=np.int32)\n",
    "# # print(X,Y)\n",
    "# # enc = sklearn.preprocessing.LabelEncoder()\n",
    "# # Y = enc.fit_transform(Y)\n",
    "# # print(enc.classes_)\n",
    "# # print(enc.transform(enc.classes_))\n",
    "# # print(Y) \n",
    "# # print(enc.classes_)\n",
    "# # print(enc.transform(enc.classes_))\n",
    "\n",
    "# from sklearn.datasets import load_iris\n",
    "# iris = load_iris()\n",
    "# X = iris.data\n",
    "# Y = iris.target\n",
    "X,Y = X[:5000],Y[:5000]\n",
    "print(\"num classes = \",len(set(Y)))\n",
    "print(X.shape,Y.shape)"
   ]
  },
  {
   "cell_type": "code",
   "execution_count": 30,
   "metadata": {},
   "outputs": [
    {
     "name": "stdout",
     "output_type": "stream",
     "text": [
      "(2500, 54) (2500, 54)\n",
      "[3 1 2 ... 3 1 1]\n"
     ]
    }
   ],
   "source": [
    "x_train, x_test, y_train, y_test = sklearn.model_selection.train_test_split(X,Y, test_size=0.50, random_state=42)\n",
    "# x_test, y_test = x_test[:1000], y_test[:1000]\n",
    "print(x_train.shape, x_test.shape)\n",
    "print(y_train)"
   ]
  },
  {
   "cell_type": "code",
   "execution_count": 31,
   "metadata": {},
   "outputs": [
    {
     "name": "stdout",
     "output_type": "stream",
     "text": [
      "0.4716\n",
      "[3 3 3 ... 3 3 3]\n",
      "[2 3 2 ... 2 3 3]\n"
     ]
    }
   ],
   "source": [
    "from sklearn.svm import SVC\n",
    "clf = SVC(C=100.0, cache_size=200, class_weight=None, coef0=0.0,\n",
    "    decision_function_shape='ovr', gamma='auto', kernel='rbf',\n",
    "    max_iter=-1, probability=False, random_state=None, shrinking=True,\n",
    "    tol=0.001, verbose=False)\n",
    "clf.fit(x_train, y_train) \n",
    "\n",
    "y_pred = clf.predict(x_test)\n",
    "print(accuracy_score(y_test,y_pred,normalize=True))\n",
    "print(y_pred)\n",
    "print(y_test)"
   ]
  },
  {
   "cell_type": "code",
   "execution_count": 32,
   "metadata": {},
   "outputs": [
    {
     "data": {
      "text/plain": [
       "SVC(C=100.0, cache_size=200, class_weight=None, coef0=0.0,\n",
       "  decision_function_shape='ovr', degree=3, gamma='auto',\n",
       "  kernel=<function my_kernel at 0x7f9e2df07840>, max_iter=-1,\n",
       "  probability=False, random_state=None, shrinking=True, tol=0.001,\n",
       "  verbose=False)"
      ]
     },
     "execution_count": 32,
     "metadata": {},
     "output_type": "execute_result"
    }
   ],
   "source": [
    "import numpy as np\n",
    "from sklearn import svm\n",
    "\n",
    "def distances(data1,order=2.0):\n",
    "    dist = np.sum( np.abs(data1)**order, axis=1 )**(1/order)\n",
    "    return dist\n",
    "\n",
    "def gaussianKernel(x1, x2, sigma=0.1):\n",
    "    # Ensure that x1 and x2 are column vectors\n",
    "    x1 = x1.flatten()\n",
    "    x2 = x2.flatten()\n",
    "    sim = np.exp(-np.sum(np.power((x1-x2),2))/float((sigma**2)))\n",
    "    return sim\n",
    "\n",
    "def gaussianKernelGramMatrixFull(X1, X2, sigma=0.1):   \n",
    "    \"\"\"(Pre)calculates Gram Matrix K\"\"\"\n",
    "    gram_matrix = np.zeros((X1.shape[0], X2.shape[0]))\n",
    "    for i, x1 in enumerate(X1):\n",
    "        for j, x2 in enumerate(X2):\n",
    "#             print(x1)\n",
    "            x1 = x1.flatten()\n",
    "            x2 = x2.flatten()\n",
    "#             print(x1.shape,x2.shape)\n",
    "            gram_matrix[i,j] = gaussianKernel(x1, x2,sigma=sigma1)\n",
    "    return gram_matrix\n",
    "\n",
    "actual_distances = distances(x_train-np.mean(x_train,axis=0),order=2.0)\n",
    "d_50 = np.percentile(actual_distances,50)\n",
    "sigma1 = d_50/((-np.log(0.5))**0.5)\n",
    "def my_kernel(X,Y):\n",
    "    return gaussianKernelGramMatrixFull(X,Y,sigma=sigma1)\n",
    "\n",
    "clf = svm.SVC(C=100.0, cache_size=200, class_weight=None, coef0=0.0,\n",
    "    decision_function_shape='ovr', gamma='auto', kernel=my_kernel,\n",
    "    max_iter=-1, probability=False, random_state=None, shrinking=True,\n",
    "    tol=0.001, verbose=False)\n",
    "clf.fit(x_train, y_train)"
   ]
  },
  {
   "cell_type": "code",
   "execution_count": 33,
   "metadata": {},
   "outputs": [
    {
     "name": "stdout",
     "output_type": "stream",
     "text": [
      "0.5432\n",
      "[2 3 1 ... 2 3 3]\n",
      "[2 3 2 ... 2 3 3]\n"
     ]
    }
   ],
   "source": [
    "y_pred = clf.predict(x_test)\n",
    "print(accuracy_score(y_test,y_pred,normalize=True))\n",
    "print(y_pred)\n",
    "print(y_test)"
   ]
  },
  {
   "cell_type": "code",
   "execution_count": 39,
   "metadata": {},
   "outputs": [
    {
     "name": "stdout",
     "output_type": "stream",
     "text": [
      "fraction fr= 0.1\n",
      "p= 6.019041475771402\n",
      "sigma1= 3.850526511040044e+17\n",
      "0.4716\n",
      "fraction fr= 0.2\n",
      "p= 5.816376252216554\n",
      "sigma1= 1093970561.182266\n",
      "0.4716\n",
      "fraction fr= 0.3\n",
      "p= 5.584662114059132\n",
      "sigma1= 1814839.8344001162\n",
      "0.4716\n",
      "fraction fr= 0.4\n",
      "p= 5.462982277815125\n",
      "sigma1= 81935.03139623748\n",
      "0.4716\n",
      "fraction fr= 0.5\n",
      "p= 5.332001710922396\n",
      "sigma1= 13712.88590661967\n",
      "0.4716\n",
      "fraction fr= 0.6\n",
      "p= 5.242811862967891\n",
      "sigma1= 4374.549668585338\n",
      "0.4716\n",
      "fraction fr= 0.7\n",
      "p= 5.159172690425566\n",
      "sigma1= 2001.6975841593655\n",
      "0.4716\n",
      "fraction fr= 0.8\n",
      "p= 5.109798782229108\n",
      "sigma1= 1140.5167164920053\n",
      "0.4344\n",
      "fraction fr= 0.9\n",
      "p= 5.068694660725522\n",
      "sigma1= 748.3461865901545\n",
      "0.374\n"
     ]
    }
   ],
   "source": [
    "import numpy as np\n",
    "from sklearn import svm\n",
    "\n",
    "def distances(data1,order=2.0):\n",
    "    dist = np.sum( np.abs(data1)**order, axis=1 )**(1/order)\n",
    "    return dist\n",
    "\n",
    "def pgaussianKernel(x1, x2, p,sigma=0.1):\n",
    "    # Ensure that x1 and x2 are column vectors\n",
    "    x1 = x1.flatten()\n",
    "    x2 = x2.flatten()\n",
    "    sim = np.exp(-np.sum(np.power(np.abs(x1-x2),p))/float((sigma**p)))\n",
    "    return sim\n",
    "\n",
    "def pgaussianKernelGramMatrixFull(X1, X2, sigma=0.1):           \n",
    "    \"\"\"(Pre)calculates Gram Matrix K\"\"\"\n",
    "    gram_matrix = np.zeros((X1.shape[0], X2.shape[0]))\n",
    "    for i, x1 in enumerate(X1):\n",
    "        for j, x2 in enumerate(X2):\n",
    "#             print(x1)\n",
    "            x1 = x1.flatten()\n",
    "            x2 = x2.flatten()\n",
    "#             print(x1.shape,x2.shape)\n",
    "            gram_matrix[i,j] = pgaussianKernel(x1, x2,p,sigma=sigma1)\n",
    "    return gram_matrix\n",
    "\n",
    "for fr in [0.1,0.2,0.3,0.4,0.5,0.6,0.7,0.8,0.9]:\n",
    "    print(\"fraction fr=\",fr)\n",
    "    actual_distances = distances(x_train-np.mean(x_train,axis=0),order=fr)\n",
    "    d_5, d_50, d_95 = np.percentile(actual_distances,5),np.percentile(actual_distances,50),np.percentile(actual_distances,95)\n",
    "    p = np.log(np.log(0.05)/np.log(0.95)) / np.log(d_95/d_5) \n",
    "    print(\"p=\",p)\n",
    "    sigma1 = d_50/((-np.log(0.50))**(1/p))\n",
    "    print(\"sigma1=\",sigma1)\n",
    "    def my_kernel(X,Y):\n",
    "        return pgaussianKernelGramMatrixFull(X,Y,sigma=sigma1)\n",
    "\n",
    "    clf = svm.SVC(C=100.0, cache_size=200, class_weight=None, coef0=0.0,\n",
    "        decision_function_shape='ovr', gamma='auto', kernel=my_kernel,\n",
    "        max_iter=-1, probability=False, random_state=None, shrinking=True,\n",
    "        tol=0.001, verbose=False)\n",
    "    clf.fit(x_train, y_train)\n",
    "\n",
    "    y_pred = clf.predict(x_test)\n",
    "    print(accuracy_score(y_test,y_pred,normalize=True))\n",
    "#     print(y_pred)\n",
    "#     print(y_test)"
   ]
  },
  {
   "cell_type": "code",
   "execution_count": 37,
   "metadata": {},
   "outputs": [
    {
     "name": "stdout",
     "output_type": "stream",
     "text": [
      "0.4716\n",
      "[3 3 3 ... 3 3 3]\n",
      "[2 3 2 ... 2 3 3]\n"
     ]
    }
   ],
   "source": [
    "y_pred = clf.predict(x_test)\n",
    "print(accuracy_score(y_test,y_pred,normalize=True))\n",
    "print(y_pred)\n",
    "print(y_test)"
   ]
  },
  {
   "cell_type": "code",
   "execution_count": null,
   "metadata": {},
   "outputs": [],
   "source": []
  }
 ],
 "metadata": {
  "kernelspec": {
   "display_name": "Python 3",
   "language": "python",
   "name": "python3"
  },
  "language_info": {
   "codemirror_mode": {
    "name": "ipython",
    "version": 3
   },
   "file_extension": ".py",
   "mimetype": "text/x-python",
   "name": "python",
   "nbconvert_exporter": "python",
   "pygments_lexer": "ipython3",
   "version": "3.7.1"
  }
 },
 "nbformat": 4,
 "nbformat_minor": 2
}
