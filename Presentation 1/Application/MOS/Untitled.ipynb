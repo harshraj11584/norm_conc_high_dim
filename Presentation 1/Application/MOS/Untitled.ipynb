{
 "cells": [
  {
   "cell_type": "code",
   "execution_count": 16,
   "metadata": {},
   "outputs": [],
   "source": [
    "import GPy\n",
    "# GPy.tests()\n",
    "import numpy as np\n",
    "import h5py\n",
    "import scipy.stats\n",
    "import sklearn.model_selection\n",
    "from sklearn.metrics import mean_squared_error\n",
    "from sklearn.preprocessing import StandardScaler\n",
    "import matplotlib.pyplot as plt"
   ]
  },
  {
   "cell_type": "code",
   "execution_count": 6,
   "metadata": {},
   "outputs": [
    {
     "name": "stdout",
     "output_type": "stream",
     "text": [
      "(1200, 100)\n",
      "(900, 100) (60, 100) (240, 100)\n",
      "(900, 1) (60, 1) (240, 1)\n"
     ]
    }
   ],
   "source": [
    "with h5py.File('MOS_Scores.mat', 'r') as f:\n",
    "\tfor k,v in f.items():\n",
    "\t\tY = (np.array(v))\n",
    "\t\tY = Y.reshape(Y.shape[1])\n",
    "\t\tnp.save('Y_mat.npy',Y)\n",
    "with h5py.File('konvid_features.mat', 'r') as f:\n",
    "\tfor k,v in f.items():\n",
    "\t\tX = (np.array(v)).T\n",
    "\t\tnp.save('X_mat.npy',X)\n",
    "\n",
    "\t\tprint(X.shape)\n",
    "\n",
    "\t\t# X1 = (X**2).copy()\n",
    "\t\t# X = np.hstack((X,X1))\n",
    "\t\t\n",
    "\t\tX = StandardScaler().fit_transform(X)\n",
    "        \n",
    "x_train,x_test,y_train,y_test = sklearn.model_selection.train_test_split(X,Y,test_size=0.2,shuffle=True,random_state=42)\n",
    "x_train,x_val,y_train,y_val = x_train[:900].copy(), x_train[900:].copy(),y_train[:900].copy(),y_train[900:].copy()\n",
    "\n",
    "y_train,y_val,y_test = np.expand_dims(y_train,axis=1),np.expand_dims(y_val,axis=1),np.expand_dims(y_test,axis=1)\n",
    "\n",
    "print(x_train.shape,x_val.shape,x_test.shape)\n",
    "print(y_train.shape,y_val.shape,y_test.shape)"
   ]
  },
  {
   "cell_type": "code",
   "execution_count": 27,
   "metadata": {},
   "outputs": [
    {
     "name": "stdout",
     "output_type": "stream",
     "text": [
      "\n",
      "Name : GP regression\n",
      "Objective : 3289.338131492887\n",
      "Number of Parameters : 5\n",
      "Number of Optimization Parameters : 5\n",
      "Updates : True\n",
      "Parameters:\n",
      "  \u001b[1mGP_regression.         \u001b[0;0m  |  value  |  constraints  |  priors\n",
      "  \u001b[1mmul.rbf.variance       \u001b[0;0m  |    1.0  |      +ve      |        \n",
      "  \u001b[1mmul.rbf.lengthscale    \u001b[0;0m  |    1.0  |      +ve      |        \n",
      "  \u001b[1mmul.Mat52.variance     \u001b[0;0m  |    1.0  |      +ve      |        \n",
      "  \u001b[1mmul.Mat52.lengthscale  \u001b[0;0m  |    1.0  |      +ve      |        \n",
      "  \u001b[1mGaussian_noise.variance\u001b[0;0m  |    1.0  |      +ve      |        \n"
     ]
    }
   ],
   "source": [
    "k1 = GPy.kern.RBF(input_dim=x_train.shape[1])\n",
    "k2 = GPy.kern.Matern52(input_dim=x_train.shape[1])\n",
    "kernel = GPy.kern. k1*k2\n",
    "m = GPy.models.GPRegression(x_train,y_train,kernel)\n",
    "print (m)"
   ]
  },
  {
   "cell_type": "code",
   "execution_count": 28,
   "metadata": {},
   "outputs": [
    {
     "name": "stderr",
     "output_type": "stream",
     "text": [
      " /home/harsh/anaconda3/lib/python3.7/site-packages/GPy/kern/src/stationary.py:168: RuntimeWarning:overflow encountered in true_divide\n",
      " /home/harsh/anaconda3/lib/python3.7/site-packages/GPy/kern/src/stationary.py:565: RuntimeWarning:invalid value encountered in multiply\n",
      " /home/harsh/anaconda3/lib/python3.7/site-packages/GPy/kern/src/rbf.py:76: RuntimeWarning:invalid value encountered in multiply\n",
      " /home/harsh/anaconda3/lib/python3.7/site-packages/GPy/kern/src/stationary.py:568: RuntimeWarning:invalid value encountered in subtract\n"
     ]
    },
    {
     "name": "stdout",
     "output_type": "stream",
     "text": [
      "Optimization restart 1/5, f = 646.0300802973072\n",
      "Optimization restart 2/5, f = 2294.6193111208495\n"
     ]
    },
    {
     "name": "stderr",
     "output_type": "stream",
     "text": [
      " /home/harsh/anaconda3/lib/python3.7/site-packages/GPy/kern/src/stationary.py:565: RuntimeWarning:overflow encountered in square\n",
      " /home/harsh/anaconda3/lib/python3.7/site-packages/GPy/kern/src/stationary.py:568: RuntimeWarning:overflow encountered in square\n",
      " /home/harsh/anaconda3/lib/python3.7/site-packages/GPy/kern/src/stationary.py:568: RuntimeWarning:invalid value encountered in multiply\n"
     ]
    },
    {
     "name": "stdout",
     "output_type": "stream",
     "text": [
      "Optimization restart 3/5, f = 621.2326391180844\n",
      "Optimization restart 4/5, f = 621.2265843692296\n",
      "Optimization restart 5/5, f = 2294.6193111208527\n"
     ]
    },
    {
     "data": {
      "text/plain": [
       "[<paramz.optimization.optimization.opt_lbfgsb at 0x7f072c62ca58>,\n",
       " <paramz.optimization.optimization.opt_lbfgsb at 0x7f072c65ba90>,\n",
       " <paramz.optimization.optimization.opt_lbfgsb at 0x7f072c60e320>,\n",
       " <paramz.optimization.optimization.opt_lbfgsb at 0x7f072c62ccf8>,\n",
       " <paramz.optimization.optimization.opt_lbfgsb at 0x7f072c64f0b8>]"
      ]
     },
     "execution_count": 28,
     "metadata": {},
     "output_type": "execute_result"
    }
   ],
   "source": [
    "m.randomize()\n",
    "m.optimize_restarts(num_restarts = 5,max_iters=5000)"
   ]
  },
  {
   "cell_type": "code",
   "execution_count": 29,
   "metadata": {},
   "outputs": [
    {
     "name": "stdout",
     "output_type": "stream",
     "text": [
      "\n",
      "Name : GP regression\n",
      "Objective : 621.2265843692296\n",
      "Number of Parameters : 5\n",
      "Number of Optimization Parameters : 5\n",
      "Updates : True\n",
      "Parameters:\n",
      "  \u001b[1mGP_regression.         \u001b[0;0m  |                 value  |  constraints  |  priors\n",
      "  \u001b[1mmul.rbf.variance       \u001b[0;0m  |     541.7618653709078  |      +ve      |        \n",
      "  \u001b[1mmul.rbf.lengthscale    \u001b[0;0m  |     5482.997257435856  |      +ve      |        \n",
      "  \u001b[1mmul.Mat52.variance     \u001b[0;0m  |  0.013420836239793038  |      +ve      |        \n",
      "  \u001b[1mmul.Mat52.lengthscale  \u001b[0;0m  |    37.465540864542625  |      +ve      |        \n",
      "  \u001b[1mGaussian_noise.variance\u001b[0;0m  |     0.188762458785246  |      +ve      |        \n"
     ]
    }
   ],
   "source": [
    "print (m)"
   ]
  },
  {
   "cell_type": "code",
   "execution_count": 30,
   "metadata": {},
   "outputs": [],
   "source": [
    "y_pred = m.predict(x_test)[0]\n",
    "y_pred = y_pred.reshape(y_test.shape)"
   ]
  },
  {
   "cell_type": "code",
   "execution_count": 31,
   "metadata": {},
   "outputs": [
    {
     "name": "stdout",
     "output_type": "stream",
     "text": [
      "pearson 0.6580302198611977\n",
      "Spearman 0.6593202883649387\n"
     ]
    }
   ],
   "source": [
    "print(\"pearson\",np.corrcoef(y_pred,y_test)[0,1])\n",
    "print(\"Spearman\",scipy.stats.spearmanr(y_pred, y_test, axis=0)[0])"
   ]
  },
  {
   "cell_type": "code",
   "execution_count": 32,
   "metadata": {},
   "outputs": [
    {
     "data": {
      "text/plain": [
       "array([[1.        , 0.65803022],\n",
       "       [0.65803022, 1.        ]])"
      ]
     },
     "execution_count": 32,
     "metadata": {},
     "output_type": "execute_result"
    }
   ],
   "source": [
    "np.corrcoef(y_test,y_pred)"
   ]
  }
 ],
 "metadata": {
  "kernelspec": {
   "display_name": "Python 3",
   "language": "python",
   "name": "python3"
  },
  "language_info": {
   "codemirror_mode": {
    "name": "ipython",
    "version": 3
   },
   "file_extension": ".py",
   "mimetype": "text/x-python",
   "name": "python",
   "nbconvert_exporter": "python",
   "pygments_lexer": "ipython3",
   "version": "3.7.1"
  }
 },
 "nbformat": 4,
 "nbformat_minor": 2
}
